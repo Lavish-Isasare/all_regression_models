{
 "cells": [
  {
   "cell_type": "code",
   "execution_count": null,
   "id": "c623805c",
   "metadata": {},
   "outputs": [],
   "source": [
    "import pandas as pd\n",
    "import numpy as np"
   ]
  },
  {
   "cell_type": "code",
   "execution_count": null,
   "id": "546406cd",
   "metadata": {},
   "outputs": [],
   "source": [
    "from sklearn.datasets import fetch_california_housing\n",
    "\n",
    "data = fetch_california_housing(as_frame=True)\n",
    "df = data.frame\n",
    "X, y = df.drop('MedHouseVal', axis = 1), df['MedHouseVal']"
   ]
  },
  {
   "cell_type": "code",
   "execution_count": null,
   "id": "05f7b90f",
   "metadata": {},
   "outputs": [],
   "source": [
    "X.head()"
   ]
  },
  {
   "cell_type": "code",
   "execution_count": null,
   "id": "855e5265",
   "metadata": {},
   "outputs": [],
   "source": [
    "y.head()"
   ]
  },
  {
   "cell_type": "markdown",
   "id": "8b1dfe11",
   "metadata": {},
   "source": [
    "##### add synthetic categorical feature for encoding step"
   ]
  },
  {
   "cell_type": "code",
   "execution_count": null,
   "id": "2fa453ec",
   "metadata": {},
   "outputs": [],
   "source": [
    "X['Region'] = np.where(X['Latitude'] > 35, 'North', 'South')\n"
   ]
  },
  {
   "cell_type": "markdown",
   "id": "5a659059",
   "metadata": {},
   "source": [
    "##### Train-test split"
   ]
  },
  {
   "cell_type": "code",
   "execution_count": null,
   "id": "f85cb19a",
   "metadata": {},
   "outputs": [],
   "source": [
    "from sklearn.model_selection import train_test_split\n",
    "\n",
    "X_train, X_test, y_train, y_test = train_test_split(X, y, test_size=0.2, random_state=42)   "
   ]
  },
  {
   "cell_type": "markdown",
   "id": "8ef683ec",
   "metadata": {},
   "source": [
    "##### Identify column types"
   ]
  },
  {
   "cell_type": "code",
   "execution_count": null,
   "id": "c5d418de",
   "metadata": {},
   "outputs": [],
   "source": [
    "\n",
    "\n",
    "num_features = X.select_dtypes(include=[np.number]).columns.tolist()\n",
    "cat_features = X.select_dtypes(include=[object]).columns.tolist() \n",
    "\n"
   ]
  },
  {
   "cell_type": "markdown",
   "id": "5c8b848e",
   "metadata": {},
   "source": [
    "##### Preprocessing Pipelines"
   ]
  },
  {
   "cell_type": "code",
   "execution_count": null,
   "id": "a03fbae6",
   "metadata": {},
   "outputs": [],
   "source": [
    "from sklearn.pipeline import Pipeline\n",
    "from sklearn.impute import SimpleImputer\n",
    "from sklearn.preprocessing import StandardScaler, OneHotEncoder\n",
    "\n",
    "numeric_pipeline = Pipeline([\n",
    "    ('imputer',SimpleImputer(strategy='median')),\n",
    "    ('scaler', StandardScaler())\n",
    "])\n"
   ]
  },
  {
   "cell_type": "code",
   "execution_count": null,
   "id": "bc7ba560",
   "metadata": {},
   "outputs": [],
   "source": [
    "categorical_pipeline = Pipeline([\n",
    "    ('imputer', SimpleImputer(strategy='most_frequent')),\n",
    "    ('encoder', OneHotEncoder(drop = 'first'))\n",
    "])"
   ]
  },
  {
   "cell_type": "code",
   "execution_count": null,
   "id": "2e0bce20",
   "metadata": {},
   "outputs": [],
   "source": [
    "from sklearn.compose import ColumnTransformer\n",
    "from sklearn.compose import make_column_transformer\n",
    "\n",
    "preprocessor = ColumnTransformer([\n",
    "    ('num', numeric_pipeline, num_features),\n",
    "    ('cat', categorical_pipeline, cat_features)\n",
    "])"
   ]
  },
  {
   "cell_type": "markdown",
   "id": "68088ae3",
   "metadata": {},
   "source": [
    "##### Models Dictionary"
   ]
  },
  {
   "cell_type": "code",
   "execution_count": null,
   "id": "833aa5cd",
   "metadata": {},
   "outputs": [],
   "source": [
    "#pip install xgboost"
   ]
  },
  {
   "cell_type": "code",
   "execution_count": null,
   "id": "0342f605",
   "metadata": {},
   "outputs": [],
   "source": [
    "import sklearn\n",
    "from sklearn.linear_model import LinearRegression, Ridge, Lasso, ElasticNet\n",
    "from sklearn.tree import DecisionTreeRegressor\n",
    "from sklearn.ensemble import RandomForestRegressor, GradientBoostingRegressor\n",
    "from xgboost import XGBRegressor\n",
    "from sklearn.svm import SVR\n",
    "from sklearn.neighbors import KNeighborsRegressor\n",
    "\n",
    "\n",
    "\n",
    "models = {\n",
    "    'LinearRegression': LinearRegression(),\n",
    "    'Ridge': Ridge(),\n",
    "    'Lasso': Lasso(),\n",
    "    'ElasticNet': ElasticNet(),\n",
    "    'DecisionTreeRegressor': DecisionTreeRegressor(),\n",
    "    'RandomForestRegressor': RandomForestRegressor(),  \n",
    "    'GradientBoostingRegressor': GradientBoostingRegressor(),\n",
    "    'XGBRegressor': XGBRegressor(), \n",
    "    'SVR': SVR(),\n",
    "    'KNeighborsRegressor': KNeighborsRegressor()\n",
    "}"
   ]
  },
  {
   "cell_type": "markdown",
   "id": "5f69d72a",
   "metadata": {},
   "source": [
    "##### Model Training and Evaluation with Cross-validation"
   ]
  },
  {
   "cell_type": "code",
   "execution_count": null,
   "id": "ac818671",
   "metadata": {},
   "outputs": [],
   "source": [
    "\n",
    "from sklearn.model_selection import cross_val_score\n",
    "from sklearn.metrics import mean_squared_error, r2_score\n",
    "\n",
    "results = {}\n",
    "for name, model in models.items():\n",
    "    pipeline = Pipeline([\n",
    "        ('preprocess', preprocessor),\n",
    "        ('model', model)\n",
    "    ])\n",
    "    cv_scores = cross_val_score(\n",
    "        pipeline, X_train, y_train,\n",
    "        scoring='neg_mean_squared_error', cv=5\n",
    "    )\n",
    "    pipeline.fit(X_train, y_train)\n",
    "    y_pred = pipeline.predict(X_test)\n",
    "    \n",
    "    results[name] = {\n",
    "        'CV RMSE Mean': np.sqrt(-cv_scores.mean()),\n",
    "        'CV RMSE Std': cv_scores.std(),\n",
    "        'Test MSE': mean_squared_error(y_test, y_pred),\n",
    "        'Test RMSE': np.sqrt(mean_squared_error(y_test, y_pred)), \n",
    "        'Test R2': r2_score(y_test, y_pred)\n",
    "    }\n",
    "\n"
   ]
  },
  {
   "cell_type": "markdown",
   "id": "295b99c2",
   "metadata": {},
   "source": [
    "##### Results DataFrame"
   ]
  },
  {
   "cell_type": "code",
   "execution_count": null,
   "id": "7dcb72a7",
   "metadata": {},
   "outputs": [],
   "source": [
    "results_df = pd.DataFrame(results).T\n",
    "print('\\n======= REGRESSION RESULTS =======')\n",
    "print(results_df)"
   ]
  },
  {
   "cell_type": "markdown",
   "id": "2294fffe",
   "metadata": {},
   "source": [
    "##### Hyperparameter Tuning Example (e.g., Ridge alpha)"
   ]
  },
  {
   "cell_type": "code",
   "execution_count": null,
   "id": "e8d7f3b0",
   "metadata": {},
   "outputs": [],
   "source": [
    "from sklearn.model_selection import GridSearchCV\n",
    "\n",
    "print('\\nHyperparameter tuning for Ridge Regression:')\n",
    "ridge_pipeline = Pipeline([\n",
    "    ('preprocess', preprocessor),\n",
    "    ('ridge', Ridge())\n",
    "])\n",
    "param_grid = {'ridge__alpha': [0.1, 1.0, 10.0, 100.0]}\n",
    "grid = GridSearchCV(ridge_pipeline, param_grid, scoring='neg_root_mean_squared_error', cv=5)\n",
    "grid.fit(X_train, y_train)\n",
    "print(f\"Best Ridge alpha: {grid.best_params_['ridge__alpha']}\")\n",
    "print(f\"Best Ridge CV RMSE: {-grid.best_score_:.4f}\")"
   ]
  },
  {
   "cell_type": "markdown",
   "id": "f8607800",
   "metadata": {},
   "source": [
    "##### try MinMax scaling"
   ]
  },
  {
   "cell_type": "code",
   "execution_count": null,
   "id": "68ff3bb3",
   "metadata": {},
   "outputs": [],
   "source": [
    "\n",
    "from sklearn.preprocessing import MinMaxScaler\n",
    "from sklearn.metrics import mean_squared_error\n",
    "import numpy as np\n",
    "\n",
    "numeric_pipeline_minmax = Pipeline([\n",
    "    ('imputer', SimpleImputer(strategy='median')),\n",
    "    ('scaler', MinMaxScaler())\n",
    "])\n",
    "preprocessor_minmax = ColumnTransformer([\n",
    "    ('num', numeric_pipeline_minmax, num_features),\n",
    "    ('cat', categorical_pipeline, cat_features)\n",
    "])\n",
    "pipeline_mm = Pipeline([\n",
    "    ('preprocess', preprocessor_minmax),\n",
    "    ('model', RandomForestRegressor(random_state=42, n_jobs=-1))\n",
    "])\n",
    "pipeline_mm.fit(X_train, y_train)\n",
    "y_pred_mm = pipeline_mm.predict(X_test)\n",
    "\n",
    "rmse_mm = np.sqrt(mean_squared_error(y_test, y_pred_mm))\n",
    "print(f\"\\nRandomForest (MinMaxScaler) Test RMSE: {rmse_mm:.4f}\")\n",
    "\n",
    "print(\"\\nAll regression models completed.\")"
   ]
  },
  {
   "cell_type": "markdown",
   "id": "f9032054",
   "metadata": {},
   "source": [
    "##### View prediction distribution"
   ]
  },
  {
   "cell_type": "code",
   "execution_count": null,
   "id": "a80ee4e1",
   "metadata": {},
   "outputs": [],
   "source": [
    "import matplotlib.pyplot as plt\n",
    "\n",
    "plt.scatter(y_test, results['LinearRegression']['Test RMSE'] * np.ones_like(y_test), alpha=0.1, label='Test Predictions (linear)')\n",
    "plt.xlabel('True Values')\n",
    "plt.ylabel('Predicted RMSE')\n",
    "plt.title('Test Prediction Distribution - Example')\n",
    "plt.legend()\n",
    "plt.show()"
   ]
  },
  {
   "cell_type": "code",
   "execution_count": null,
   "id": "3316c3ee",
   "metadata": {},
   "outputs": [],
   "source": []
  }
 ],
 "metadata": {
  "kernelspec": {
   "display_name": "Python 3",
   "language": "python",
   "name": "python3"
  },
  "language_info": {
   "codemirror_mode": {
    "name": "ipython",
    "version": 3
   },
   "file_extension": ".py",
   "mimetype": "text/x-python",
   "name": "python",
   "nbconvert_exporter": "python",
   "pygments_lexer": "ipython3",
   "version": "3.11.9"
  }
 },
 "nbformat": 4,
 "nbformat_minor": 5
}
